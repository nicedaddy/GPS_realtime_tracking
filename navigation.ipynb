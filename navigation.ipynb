{
 "cells": [
  {
   "cell_type": "code",
   "execution_count": 1,
   "id": "18bab7fb",
   "metadata": {},
   "outputs": [
    {
     "name": "stdout",
     "output_type": "stream",
     "text": [
      "['/dev/ttyUSB0']\n"
     ]
    }
   ],
   "source": [
    "import sys   \n",
    "import glob   \n",
    "import serial\n",
    "from serial import Serial\n",
    "\n",
    "%matplotlib inline\n",
    "\n",
    "def serial_ports():   \n",
    "    \"\"\" Lists serial port names   \n",
    "       \n",
    "        :raises EnvironmentError:   \n",
    "            On unsupported or unknown platforms   \n",
    "        :returns:   \n",
    "            A list of the serial ports available on the system   \n",
    "    \"\"\"   \n",
    "    if sys.platform.startswith('win'):   \n",
    "        ports = ['COM%s' % (i + 1) for i in range(256)]   \n",
    "    elif sys.platform.startswith('linux') or sys.platform.startswith('cygwin'):   \n",
    "        # this excludes your current terminal \"/dev/tty\"   \n",
    "        ports = glob.glob('/dev/tty[A-Za-z]*')   \n",
    "    elif sys.platform.startswith('darwin'):   \n",
    "        ports = glob.glob('/dev/tty.*')   \n",
    "    else:   \n",
    "        raise EnvironmentError('Unsupported platform')   \n",
    "       \n",
    "    result = []   \n",
    "    for port in ports:   \n",
    "        try:   \n",
    "            s = serial.Serial(port)   \n",
    "            s.close()   \n",
    "            result.append(port)   \n",
    "        except (OSError, serial.SerialException):   \n",
    "            pass   \n",
    "    return result   \n",
    "   \n",
    "if __name__ == '__main__':\n",
    "    print(serial_ports())"
   ]
  },
  {
   "cell_type": "code",
   "execution_count": 2,
   "id": "c98df1d5",
   "metadata": {},
   "outputs": [
    {
     "name": "stdout",
     "output_type": "stream",
     "text": [
      "0 Latitude : nyGPS li longitude: ary v. 13\n",
      " longitude:  art\n",
      "2 Latitude :  longitude: \n",
      "3 Latitude : Latitude longitude: Longitude\n",
      "4 Latitude : (deg)    longitude: (deg)    \n",
      "5 Latitude : -------- longitude: ---------\n",
      "6 Latitude : ******** longitude: *********\n",
      "7 Latitude : ******** longitude: *********\n",
      "8 Latitude : ******** longitude: *********\n",
      "9 Latitude : ******** longitude: *********\n"
     ]
    }
   ],
   "source": [
    "ser = Serial('/dev/ttyUSB0',115200)\n",
    "\n",
    "def serial_gps():\n",
    "    for i in range(10):\n",
    "        if ser.readable():\n",
    "            res = ser.readline()\n",
    "            msg=res.decode()[:len(res)-1]\n",
    "            latitude = msg[10:18]\n",
    "            longitude = msg[20:29]\n",
    "            print(i, \"Latitude :\",latitude, \"longitude:\",longitude )\n",
    "#             print(res.decode()[:len(res)-1]) # all information \n",
    "\n",
    "## file write test ##\n",
    "f=open(\"test.txt\",'w')\n",
    "for i in range(10):\n",
    "    if ser.readable():\n",
    "            res = ser.readline()\n",
    "            msg=res.decode()[:len(res)-1]\n",
    "            latitude = msg[10:18]\n",
    "            longitude = msg[20:29]\n",
    "            print(i, \"Latitude :\",latitude, \"longitude:\",longitude )\n",
    "    f.write(latitude+\"  \"+longitude+\"\\n\")\n",
    "\n",
    "f.close()\n",
    "# serial_gps()"
   ]
  },
  {
   "cell_type": "code",
   "execution_count": 5,
   "id": "9aaa2f40",
   "metadata": {},
   "outputs": [
    {
     "name": "stdout",
     "output_type": "stream",
     "text": [
      "nyGPS li  ary v. 13\n",
      "art\n",
      "  \n",
      "  \n",
      "Latitude  Longitude\n",
      "(deg)     (deg)    \n",
      "--------  ---------\n",
      "********  *********\n",
      "********  *********\n",
      "********  *********\n",
      "********  *********\n",
      "\n"
     ]
    }
   ],
   "source": [
    "f=open(\"test.txt\",'r')\n",
    "data=f.read()\n",
    "print(data)\n",
    "f.close()"
   ]
  },
  {
   "cell_type": "code",
   "execution_count": 6,
   "id": "123d036f",
   "metadata": {},
   "outputs": [],
   "source": [
    "# GPS data save (Neo 6m GPS Module)\n",
    "import time\n",
    "saving_time=1*10\n",
    "init=time.time()\n",
    "f=open(\"gps-temp.txt\",'w')\n",
    "while True:\n",
    "    if ser.readable():\n",
    "        res = ser.readline()\n",
    "        msg=res.decode()[:len(res)-1]\n",
    "        latitude = msg[10:18]\n",
    "        longitude = msg[20:29]\n",
    "    f.write(latitude+\"  \"+longitude+\"\\n\")\n",
    "    time_=time.time()-init\n",
    "    if time_> saving_time: break\n",
    "f.close()"
   ]
  },
  {
   "cell_type": "code",
   "execution_count": 26,
   "id": "99450890",
   "metadata": {},
   "outputs": [
    {
     "name": "stdout",
     "output_type": "stream",
     "text": [
      "904\n"
     ]
    }
   ],
   "source": [
    "import pandas as pd\n",
    "import numpy as np\n",
    "import matplotlib.pyplot as plt\n",
    "from PIL import Image, ImageDraw\n",
    "import drawnow\n",
    "import cv2\n",
    "\n",
    "%matplotlib tk\n",
    "points=(37.2156, 127.0673, 37.1630, 127.1311)\n",
    "def scale_to_img(lat_lon, h_w):\n",
    "\n",
    "    old = (points[2], points[0])\n",
    "    new = (0, h_w[1])\n",
    "    y = ((lat_lon[0] - old[0]) * (new[1] - new[0]) / (old[1] - old[0])) + new[0]\n",
    "    old = (points[1], points[3])\n",
    "    new = (0, h_w[0])\n",
    "    x = ((lat_lon[1] - old[0]) * (new[1] - new[0]) / (old[1] - old[0])) + new[0]\n",
    "    # y must be reversed because the orientation of the image in the matplotlib.\n",
    "    # image - (0, 0) in upper left corner; coordinate system - (0, 0) in lower left corner\n",
    "    return int(x), h_w[1] - int(y)\n",
    "\n",
    "def create_img(color, width=2):\n",
    "    data = pd.read_csv('gps.csv', names=['LATITUDE', 'LONGITUDE'], sep=',')\n",
    "\n",
    "    result_image = Image.open('map_1.png', 'r')\n",
    "    img_points = []\n",
    "    gps_data = tuple(zip(data['LATITUDE'].values, data['LONGITUDE'].values))\n",
    "    print(len(gps_data))\n",
    "    for d in gps_data[:50]:\n",
    "        x1, y1 = scale_to_img(d, (result_image.size[0], result_image.size[1]))\n",
    "        img_points.append((x1, y1))\n",
    "        draw = ImageDraw.Draw(result_image)\n",
    "        draw.line(img_points, fill=color, width=width)\n",
    "    #drawing line !!!\n",
    "    draw = ImageDraw.Draw(result_image)\n",
    "    draw.line(img_points, fill=color, width=width)\n",
    "    \n",
    "    return result_image\n",
    "\n",
    "def get_ticks():\n",
    "    x_ticks = []\n",
    "    y_ticks = []\n",
    "    x_ticks = map(lambda x: round(x, 4),np.linspace(points[1], points[3], num=7))\n",
    "    y_ticks = map(lambda x: round(x, 4), np.linspace(points[2], points[0], num=8))\n",
    "    y_ticks = sorted(y_ticks, reverse=True)\n",
    "    \n",
    "    return x_ticks,y_ticks"
   ]
  },
  {
   "cell_type": "code",
   "execution_count": 49,
   "id": "fd8aed01",
   "metadata": {},
   "outputs": [],
   "source": [
    "data = pd.read_csv('gps.csv', names=['LATITUDE', 'LONGITUDE'], sep=',')\n",
    "result_image = Image.open('map_1.png', 'r')\n",
    "img_points = []\n",
    "gps_data = tuple(zip(data['LATITUDE'].values, data['LONGITUDE'].values))\n",
    "\n",
    "for d in gps_data:\n",
    "    x1, y1 = scale_to_img(d, (result_image.size[0], result_image.size[1]))\n",
    "    img_points.append((x1, y1))\n",
    "    draw = ImageDraw.Draw(result_image)\n",
    "    draw.line(img_points, (0,0,255), width=3)\n",
    "    cv2_img=np.array(result_image)\n",
    "    # img = cv2.imread('map_1.png', cv2.IMREAD_COLOR)\n",
    "    img1= cv2.cvtColor(cv2_img, cv2.COLOR_RGB2BGR)\n",
    "    cv2.namedWindow('Navigation', cv2.WINDOW_NORMAL)\n",
    "    cv2.resizeWindow('Navigation', 800, 600)   \n",
    "    cv2.imshow(\"Navigation\",img1)\n",
    "    if cv2.waitKey(1)==27:break\n",
    "    time.sleep(0.1)\n",
    "\n",
    "cv2.destroyAllWindows()"
   ]
  },
  {
   "cell_type": "code",
   "execution_count": 4,
   "id": "df8caaf3",
   "metadata": {},
   "outputs": [
    {
     "name": "stdout",
     "output_type": "stream",
     "text": [
      "0 Latitude : 37.2 longitude: 127.2\n",
      "check!\n"
     ]
    },
    {
     "ename": "NameError",
     "evalue": "name 'img1' is not defined",
     "output_type": "error",
     "traceback": [
      "\u001b[0;31m---------------------------------------------------------------------------\u001b[0m",
      "\u001b[0;31mNameError\u001b[0m                                 Traceback (most recent call last)",
      "\u001b[0;32m<ipython-input-4-cfacf7de0366>\u001b[0m in \u001b[0;36m<module>\u001b[0;34m\u001b[0m\n\u001b[1;32m     40\u001b[0m     \u001b[0mmg1\u001b[0m\u001b[0;34m=\u001b[0m \u001b[0mcv2\u001b[0m\u001b[0;34m.\u001b[0m\u001b[0mcvtColor\u001b[0m\u001b[0;34m(\u001b[0m\u001b[0mcv2_img1\u001b[0m\u001b[0;34m,\u001b[0m \u001b[0mcv2\u001b[0m\u001b[0;34m.\u001b[0m\u001b[0mCOLOR_RGB2BGR\u001b[0m\u001b[0;34m)\u001b[0m\u001b[0;34m\u001b[0m\u001b[0;34m\u001b[0m\u001b[0m\n\u001b[1;32m     41\u001b[0m     \u001b[0mcv2\u001b[0m\u001b[0;34m.\u001b[0m\u001b[0mnamedWindow\u001b[0m\u001b[0;34m(\u001b[0m\u001b[0;34m'Navigation'\u001b[0m\u001b[0;34m,\u001b[0m \u001b[0mcv2\u001b[0m\u001b[0;34m.\u001b[0m\u001b[0mWINDOW_AUTOSIZE\u001b[0m\u001b[0;34m)\u001b[0m\u001b[0;34m\u001b[0m\u001b[0;34m\u001b[0m\u001b[0m\n\u001b[0;32m---> 42\u001b[0;31m     \u001b[0mcv2\u001b[0m\u001b[0;34m.\u001b[0m\u001b[0mimshow\u001b[0m\u001b[0;34m(\u001b[0m\u001b[0;34m\"Navigation\"\u001b[0m\u001b[0;34m,\u001b[0m\u001b[0mimg1\u001b[0m\u001b[0;34m)\u001b[0m\u001b[0;34m\u001b[0m\u001b[0;34m\u001b[0m\u001b[0m\n\u001b[0m\u001b[1;32m     43\u001b[0m     \u001b[0;32mif\u001b[0m \u001b[0mcv2\u001b[0m\u001b[0;34m.\u001b[0m\u001b[0mwaitKey\u001b[0m\u001b[0;34m(\u001b[0m\u001b[0;36m1\u001b[0m\u001b[0;34m)\u001b[0m\u001b[0;34m==\u001b[0m\u001b[0;36m27\u001b[0m\u001b[0;34m:\u001b[0m\u001b[0;32mbreak\u001b[0m\u001b[0;34m\u001b[0m\u001b[0;34m\u001b[0m\u001b[0m\n\u001b[1;32m     44\u001b[0m     \u001b[0mtime\u001b[0m\u001b[0;34m.\u001b[0m\u001b[0msleep\u001b[0m\u001b[0;34m(\u001b[0m\u001b[0;36m0.01\u001b[0m\u001b[0;34m)\u001b[0m\u001b[0;34m\u001b[0m\u001b[0;34m\u001b[0m\u001b[0m\n",
      "\u001b[0;31mNameError\u001b[0m: name 'img1' is not defined"
     ]
    }
   ],
   "source": [
    "result_image1 = Image.open('map_1.png', 'r')\n",
    "img_points1=[]\n",
    "c=0\n",
    "b=0\n",
    "while True:\n",
    "    if ser.readable():\n",
    "        res = ser.readline()\n",
    "        msg=res.decode()[:len(res)-1]\n",
    "#         latitude = msg[10:18]\n",
    "#         longitude = msg[20:29]\n",
    "        latitude = 37.2\n",
    "        longitude = 127.2\n",
    "        print(c, \"Latitude :\",latitude, \"longitude:\",longitude )\n",
    "        \n",
    "    try:\n",
    "        lat=float(latitude)\n",
    "        logt=float(longitude)\n",
    "        d=(lat,logt)\n",
    "        \n",
    "        x1, y1 = scale_to_img(d, (result_image.size[0], result_image.size[1]))\n",
    "#         print(x1,y1)\n",
    "        img_points1.append((x1, y1))\n",
    "        draw = ImageDraw.Draw(result_image1)\n",
    "        draw.line(img_points1, (0,0,255), width=3)\n",
    "        cv2_img=np.array(result_image1)\n",
    "        # img = cv2.imread('map_1.png', cv2.IMREAD_COLOR)\n",
    " \n",
    "    except:\n",
    "        b+=1\n",
    "        \n",
    "    print(\"check!\")\n",
    "    cv2_img1=np.array(result_image1)\n",
    "    img1= cv2.cvtColor(cv2_img1, cv2.COLOR_RGB2BGR)\n",
    "    cv2.namedWindow('Navigation', cv2.WINDOW_AUTOSIZE)\n",
    "    cv2.imshow(\"Navigation\",img1)\n",
    "    if cv2.waitKey(1)==27:break\n",
    "    time.sleep(0.01)\n",
    "    c+=1\n",
    "    \n",
    "cv2.destroyAllWindows()"
   ]
  },
  {
   "cell_type": "code",
   "execution_count": null,
   "id": "493af9f4",
   "metadata": {},
   "outputs": [],
   "source": []
  }
 ],
 "metadata": {
  "kernelspec": {
   "display_name": "lane-detection",
   "language": "python",
   "name": "lane-detection"
  },
  "language_info": {
   "codemirror_mode": {
    "name": "ipython",
    "version": 3
   },
   "file_extension": ".py",
   "mimetype": "text/x-python",
   "name": "python",
   "nbconvert_exporter": "python",
   "pygments_lexer": "ipython3",
   "version": "3.8.10"
  }
 },
 "nbformat": 4,
 "nbformat_minor": 5
}
